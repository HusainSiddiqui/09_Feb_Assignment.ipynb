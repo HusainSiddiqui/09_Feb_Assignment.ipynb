{
 "cells": [
  {
   "cell_type": "raw",
   "metadata": {},
   "source": [
    "Q1, Create a vehicle class with an init method having instance variables as name_of_vehicle, max_speed\n",
    "    and average_of_vehicle."
   ]
  },
  {
   "cell_type": "code",
   "execution_count": 12,
   "metadata": {},
   "outputs": [
    {
     "name": "stdout",
     "output_type": "stream",
     "text": [
      "alto\n",
      "80\n",
      "18 \n",
      "\n",
      "i20\n",
      "120\n",
      "13\n"
     ]
    }
   ],
   "source": [
    "class vehicle_class():\n",
    "    def __init__(self,name_of_vehicle,max_speed,average_of_vehicle):\n",
    "        self.name_of_vehicle=name_of_vehicle\n",
    "        self.max_speed=max_speed\n",
    "        self.average_of_vehicle=average_of_vehicle\n",
    "        \n",
    "maruti=vehicle_class('alto',80,18)\n",
    "print(maruti.name_of_vehicle)\n",
    "print(maruti.max_speed)\n",
    "print(maruti.average_of_vehicle,'\\n')\n",
    "\n",
    "hyundai=vehicle_class('i20',120,13)\n",
    "print(hyundai.name_of_vehicle)\n",
    "print(hyundai.max_speed)\n",
    "print(hyundai.average_of_vehicle)"
   ]
  },
  {
   "cell_type": "raw",
   "metadata": {},
   "source": [
    "Q2. Create a child class car from the vehicle class created in Que 1, \n",
    "    which will inherit the vehicle class.\n",
    "    Create a method named seating_capacity which takes capacity as an argument and \n",
    "    returns the name of the vehicle and its seating capacity.\n"
   ]
  },
  {
   "cell_type": "code",
   "execution_count": 29,
   "metadata": {},
   "outputs": [],
   "source": [
    "class vehicle_class:\n",
    "    def __init__(self,name):\n",
    "        self.name=name"
   ]
  },
  {
   "cell_type": "code",
   "execution_count": 30,
   "metadata": {},
   "outputs": [],
   "source": [
    "class car_class(vehicle_class):\n",
    "    \n",
    "    def __init__(self,capicity):\n",
    "        self.capicity=capicity\n",
    "        \n",
    "    \n",
    "    def seating_capacity(self,vehicle_class):\n",
    "        print(\"Name=\",vehicle_class.name,'seat=',self.capicity)"
   ]
  },
  {
   "cell_type": "code",
   "execution_count": 31,
   "metadata": {},
   "outputs": [],
   "source": [
    "v=vehicle_class('maruti')"
   ]
  },
  {
   "cell_type": "code",
   "execution_count": 32,
   "metadata": {},
   "outputs": [],
   "source": [
    "c=car_class(50)"
   ]
  },
  {
   "cell_type": "code",
   "execution_count": 33,
   "metadata": {},
   "outputs": [
    {
     "name": "stdout",
     "output_type": "stream",
     "text": [
      "Name= maruti seat= 50\n"
     ]
    }
   ],
   "source": [
    "c.seating_capacity(v)"
   ]
  },
  {
   "cell_type": "raw",
   "metadata": {},
   "source": [
    "Q3. What is multiple inheritance? Write a python code to demonstrate multiple inheritance."
   ]
  },
  {
   "cell_type": "code",
   "execution_count": 49,
   "metadata": {},
   "outputs": [],
   "source": [
    "class parent1:\n",
    "    def __init__(self,name1):\n",
    "        self.name1=name1"
   ]
  },
  {
   "cell_type": "code",
   "execution_count": 50,
   "metadata": {},
   "outputs": [],
   "source": [
    "class parent2:\n",
    "    def __init__(self,name2):\n",
    "        self.name2=name2"
   ]
  },
  {
   "cell_type": "code",
   "execution_count": 52,
   "metadata": {},
   "outputs": [],
   "source": [
    "class child(parent1,parent2):\n",
    "    def printname(parent1,parent2):\n",
    "        print(parent1.name1,parent2.name2)"
   ]
  },
  {
   "cell_type": "code",
   "execution_count": 53,
   "metadata": {},
   "outputs": [],
   "source": [
    "p1=parent1('shah')"
   ]
  },
  {
   "cell_type": "code",
   "execution_count": 54,
   "metadata": {},
   "outputs": [],
   "source": [
    "p2=parent2('shahi')"
   ]
  },
  {
   "cell_type": "code",
   "execution_count": 57,
   "metadata": {},
   "outputs": [],
   "source": [
    "ch1=child"
   ]
  },
  {
   "cell_type": "code",
   "execution_count": 58,
   "metadata": {},
   "outputs": [
    {
     "name": "stdout",
     "output_type": "stream",
     "text": [
      "shah shahi\n"
     ]
    }
   ],
   "source": [
    "ch1.printname(p1,p2)"
   ]
  },
  {
   "cell_type": "raw",
   "metadata": {},
   "source": [
    "Q4. What are getter and setter in python? Create a class and create a getter and a setter method in this\n",
    "class."
   ]
  },
  {
   "cell_type": "markdown",
   "metadata": {},
   "source": [
    "Ans1.\n",
    "    Getters: These are the methods is used to access the private attributes from a class.\n",
    "    Setters: These are the methods used to set the value to private attributes in a class."
   ]
  },
  {
   "cell_type": "code",
   "execution_count": 22,
   "metadata": {},
   "outputs": [],
   "source": [
    "class course:\n",
    "    def __init__(self,course,amt):\n",
    "        self.course=course\n",
    "        self.__amt=amt\n",
    "        \n",
    "    @property\n",
    "    def amount(self):\n",
    "        return self.__amt\n",
    "    \n",
    "    @amount.getter\n",
    "    def amount(self):\n",
    "        print(self.__amt)\n",
    "        \n",
    "    @amount.setter\n",
    "    def amount(self,am):\n",
    "        self.__amt=am"
   ]
  },
  {
   "cell_type": "code",
   "execution_count": 23,
   "metadata": {},
   "outputs": [],
   "source": [
    "c=course('data',3500)"
   ]
  },
  {
   "cell_type": "code",
   "execution_count": 26,
   "metadata": {},
   "outputs": [
    {
     "name": "stdout",
     "output_type": "stream",
     "text": [
      "3500\n"
     ]
    }
   ],
   "source": [
    "c.amount"
   ]
  },
  {
   "cell_type": "code",
   "execution_count": 28,
   "metadata": {},
   "outputs": [],
   "source": [
    "c.amount=3000"
   ]
  },
  {
   "cell_type": "code",
   "execution_count": 29,
   "metadata": {},
   "outputs": [
    {
     "name": "stdout",
     "output_type": "stream",
     "text": [
      "3000\n"
     ]
    }
   ],
   "source": [
    "c.amount"
   ]
  },
  {
   "cell_type": "raw",
   "metadata": {},
   "source": [
    "Q5.What is method overriding in python? Write a python code to demonstrate method overriding."
   ]
  },
  {
   "cell_type": "markdown",
   "metadata": {},
   "source": [
    "Ans5.\n",
    "Method Overriding: \n",
    "Method overriding is an example of run time polymorphism. \n",
    "In this, the method that is already provided by the parent class is provided by the child class. \n",
    "It is used to change the behavior of existing methods and there is a need for at least two classes for method overriding.\n",
    "Example:"
   ]
  },
  {
   "cell_type": "code",
   "execution_count": 30,
   "metadata": {},
   "outputs": [
    {
     "name": "stdout",
     "output_type": "stream",
     "text": [
      "Modified feature_1 of class A by class B\n"
     ]
    }
   ],
   "source": [
    "class A:\n",
    " \n",
    "    def fun1(self):\n",
    "        print('feature_1 of class A')\n",
    "         \n",
    "    def fun2(self):\n",
    "        print('feature_2 of class A')\n",
    "     \n",
    "class B(A):\n",
    "     \n",
    "    # Modified function that is\n",
    "    # already exist in class A\n",
    "    def fun1(self):\n",
    "        print('Modified feature_1 of class A by class B')   \n",
    "         \n",
    "    def fun3(self):\n",
    "        print('feature_3 of class B')\n",
    "         \n",
    " \n",
    "# Create instance\n",
    "obj = B()\n",
    "     \n",
    "# Call the override function\n",
    "obj.fun1()"
   ]
  }
 ],
 "metadata": {
  "kernelspec": {
   "display_name": "Python 3",
   "language": "python",
   "name": "python3"
  },
  "language_info": {
   "codemirror_mode": {
    "name": "ipython",
    "version": 3
   },
   "file_extension": ".py",
   "mimetype": "text/x-python",
   "name": "python",
   "nbconvert_exporter": "python",
   "pygments_lexer": "ipython3",
   "version": "3.6.5"
  }
 },
 "nbformat": 4,
 "nbformat_minor": 2
}
